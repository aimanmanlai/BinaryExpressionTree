{
  "nbformat": 4,
  "nbformat_minor": 0,
  "metadata": {
    "accelerator": "GPU",
    "colab": {
      "name": "DeepFake2",
      "provenance": [],
      "include_colab_link": true
    },
    "kernelspec": {
      "display_name": "Python 3",
      "name": "python3"
    },
    "language_info": {
      "name": "python"
    }
  },
  "cells": [
    {
      "cell_type": "markdown",
      "metadata": {
        "id": "view-in-github",
        "colab_type": "text"
      },
      "source": [
        "<a href=\"https://colab.research.google.com/github/aimanmanlai/BinaryExpressionTree/blob/main/DeepFake2.ipynb\" target=\"_parent\"><img src=\"https://colab.research.google.com/assets/colab-badge.svg\" alt=\"Open In Colab\"/></a>"
      ]
    },
    {
      "cell_type": "code",
      "metadata": {
        "colab": {
          "base_uri": "https://localhost:8080/"
        },
        "id": "bM4v7V53NccC",
        "outputId": "acb56c48-6ee7-4a9b-e01c-d3c1e52f40c2"
      },
      "source": [
        "!pip install keras_vggface\n",
        "!pip install opencv-python\n",
        "!pip install --user tqdm\n",
        "!pip install Keras-Applications"
      ],
      "execution_count": 1,
      "outputs": [
        {
          "output_type": "stream",
          "text": [
            "Collecting keras_vggface\n",
            "  Downloading https://files.pythonhosted.org/packages/2f/7d/5f0319ebdc09ac1a2272364fa9583f5067b6f8aff93fbbf8835d81cbaad7/keras_vggface-0.6-py3-none-any.whl\n",
            "Requirement already satisfied: pyyaml in /usr/local/lib/python3.7/dist-packages (from keras_vggface) (3.13)\n",
            "Requirement already satisfied: numpy>=1.9.1 in /usr/local/lib/python3.7/dist-packages (from keras_vggface) (1.19.5)\n",
            "Requirement already satisfied: keras in /usr/local/lib/python3.7/dist-packages (from keras_vggface) (2.4.3)\n",
            "Requirement already satisfied: h5py in /usr/local/lib/python3.7/dist-packages (from keras_vggface) (2.10.0)\n",
            "Requirement already satisfied: six>=1.9.0 in /usr/local/lib/python3.7/dist-packages (from keras_vggface) (1.15.0)\n",
            "Requirement already satisfied: pillow in /usr/local/lib/python3.7/dist-packages (from keras_vggface) (7.1.2)\n",
            "Requirement already satisfied: scipy>=0.14 in /usr/local/lib/python3.7/dist-packages (from keras_vggface) (1.4.1)\n",
            "Installing collected packages: keras-vggface\n",
            "Successfully installed keras-vggface-0.6\n",
            "Requirement already satisfied: opencv-python in /usr/local/lib/python3.7/dist-packages (4.1.2.30)\n",
            "Requirement already satisfied: numpy>=1.14.5 in /usr/local/lib/python3.7/dist-packages (from opencv-python) (1.19.5)\n",
            "Requirement already satisfied: tqdm in /usr/local/lib/python3.7/dist-packages (4.41.1)\n",
            "Collecting Keras-Applications\n",
            "\u001b[?25l  Downloading https://files.pythonhosted.org/packages/71/e3/19762fdfc62877ae9102edf6342d71b28fbfd9dea3d2f96a882ce099b03f/Keras_Applications-1.0.8-py3-none-any.whl (50kB)\n",
            "\u001b[K     |████████████████████████████████| 51kB 4.2MB/s \n",
            "\u001b[?25hRequirement already satisfied: numpy>=1.9.1 in /usr/local/lib/python3.7/dist-packages (from Keras-Applications) (1.19.5)\n",
            "Requirement already satisfied: h5py in /usr/local/lib/python3.7/dist-packages (from Keras-Applications) (2.10.0)\n",
            "Requirement already satisfied: six in /usr/local/lib/python3.7/dist-packages (from h5py->Keras-Applications) (1.15.0)\n",
            "Installing collected packages: Keras-Applications\n",
            "Successfully installed Keras-Applications-1.0.8\n"
          ],
          "name": "stdout"
        }
      ]
    },
    {
      "cell_type": "code",
      "metadata": {
        "id": "VPpeJCWewMCD"
      },
      "source": [
        "from google.colab import drive\n",
        "drive.mount('/content/drive')"
      ],
      "execution_count": null,
      "outputs": []
    },
    {
      "cell_type": "markdown",
      "metadata": {
        "id": "xd_HlF2swEyz"
      },
      "source": [
        "# New Section"
      ]
    },
    {
      "cell_type": "code",
      "metadata": {
        "id": "LRSJ5834Ow9T"
      },
      "source": [
        "%matplotlib inline\n",
        "import matplotlib.pyplot as plt\n",
        "from PIL import Image\n",
        "import numpy as np\n",
        "import math\n",
        "import copy\n",
        "import numpy as np\n",
        "\n",
        "from keras.models import Sequential, Model\n",
        "from keras.layers import Input, Dense, Flatten, Dropout, Activation, Lambda, Permute, Reshape\n",
        "from keras.layers import Convolution2D, ZeroPadding2D, MaxPooling2D\n",
        "from keras_vggface.vggface import VGGFace\n",
        "from keras_vggface import utils\n",
        "from keras.preprocessing import image\n",
        "from keras.preprocessing.image import ImageDataGenerator\n",
        "\n",
        "from sklearn.datasets import load_files       \n",
        "from keras.utils import np_utils\n",
        "import numpy as np\n",
        "from glob import glob\n",
        "import pandas as pd\n",
        "import cv2\n",
        "import scipy.misc\n",
        "import matplotlib.pyplot as plt\n",
        "from tqdm import tqdm\n"
      ],
      "execution_count": null,
      "outputs": []
    },
    {
      "cell_type": "code",
      "metadata": {
        "colab": {
          "base_uri": "https://localhost:8080/"
        },
        "id": "rWJJsSz0dJIo",
        "outputId": "55aac4fa-9143-40e8-8bec-f428ee2838c5"
      },
      "source": [
        "base_path = '/content/drive/MyDrive/deepfake/'\n",
        "image_gen = ImageDataGenerator(rescale=1./255.)\n",
        "batch_size = 32\n",
        "\n",
        "train_flow = image_gen.flow_from_directory(\n",
        "    base_path + 'development/',\n",
        "    target_size=(512, 512),\n",
        "    batch_size=batch_size,\n",
        "    class_mode='binary'\n",
        ")\n",
        "\n",
        "valid_flow = image_gen.flow_from_directory(\n",
        "    base_path + 'validation/',\n",
        "    target_size=(512, 512),\n",
        "    batch_size=batch_size,\n",
        "    class_mode='binary'\n",
        ")\n",
        "test_flow = image_gen.flow_from_directory(\n",
        "    base_path + 'evaluation/',\n",
        "    target_size=(512, 512),\n",
        "    batch_size=1,\n",
        "    shuffle=False,\n",
        "    class_mode='binary'\n",
        ")"
      ],
      "execution_count": null,
      "outputs": [
        {
          "output_type": "stream",
          "text": [
            "Found 600 images belonging to 2 classes.\n",
            "Found 166 images belonging to 2 classes.\n",
            "Found 211 images belonging to 2 classes.\n"
          ],
          "name": "stdout"
        }
      ]
    },
    {
      "cell_type": "code",
      "metadata": {
        "colab": {
          "base_uri": "https://localhost:8080/"
        },
        "id": "8x_2VnoVhSGW",
        "outputId": "a3d88a57-a044-4817-d444-1d157c43bc23"
      },
      "source": [
        "from keras.layers import Conv2D, MaxPooling2D, GlobalAveragePooling2D\n",
        "from keras.layers import Dropout, Flatten, Dense\n",
        "from keras.models import Sequential\n",
        "from keras.layers.normalization import BatchNormalization\n",
        "\"\"\"\n",
        "    Propsoed CNN architecture.\n",
        "    \n",
        "\"\"\"\n",
        "\n",
        "model = Sequential()\n",
        "\n",
        "# Pamameters Initialization\n",
        "input_shape = (512,512,3)\n",
        "activation = 'relu'\n",
        "padding = 'same'\n",
        "droprate = 0.1\n",
        "epsilon=0.0001\n",
        "\n",
        "model = Sequential()\n",
        "model.add(BatchNormalization(input_shape=input_shape))\n",
        "model.add(Conv2D(filters=16, kernel_size=3, activation=activation, padding=padding))\n",
        "model.add(MaxPooling2D(pool_size=2))\n",
        "model.add(BatchNormalization(epsilon=epsilon))\n",
        "\n",
        "model.add(Conv2D(filters=32, kernel_size=3, activation=activation, padding=padding))\n",
        "model.add(MaxPooling2D(pool_size=2))\n",
        "model.add(BatchNormalization(epsilon=epsilon))\n",
        "model.add(Dropout(droprate))\n",
        "\n",
        "model.add(Conv2D(filters=64, kernel_size=3, activation=activation, padding=padding))\n",
        "model.add(MaxPooling2D(pool_size=2))\n",
        "model.add(BatchNormalization(epsilon=epsilon))\n",
        "model.add(Dropout(droprate))\n",
        "\n",
        "model.add(Conv2D(filters=128, kernel_size=3, activation=activation, padding=padding))\n",
        "model.add(MaxPooling2D(pool_size=2))\n",
        "model.add(BatchNormalization(epsilon=epsilon))\n",
        "model.add(Dropout(droprate))\n",
        "\n",
        "model.add(Conv2D(filters=256, kernel_size=3, activation=activation, padding=padding))\n",
        "model.add(MaxPooling2D(pool_size=2))\n",
        "model.add(BatchNormalization(epsilon=epsilon))\n",
        "model.add(Dropout(droprate))\n",
        "\n",
        "model.add(Conv2D(filters=512, kernel_size=3, activation=activation, padding=padding))\n",
        "model.add(MaxPooling2D(pool_size=2))\n",
        "model.add(BatchNormalization(epsilon=epsilon))\n",
        "model.add(Dropout(droprate))\n",
        "\n",
        "model.add(GlobalAveragePooling2D())\n",
        "model.add(Flatten())\n",
        "model.add(Dense(256, kernel_initializer='glorot_normal', activation='relu'))\n",
        "model.add(Dropout(0.5))\n",
        "          \n",
        "model.add(Dense(128, kernel_initializer='glorot_normal', activation='relu'))\n",
        "model.add(Dropout(0.5))\n",
        "model.add(Dropout(droprate))\n",
        "model.add(Dense(1, activation='sigmoid'))\n",
        "\n",
        "model.summary() # Summary of the architecture"
      ],
      "execution_count": null,
      "outputs": [
        {
          "output_type": "stream",
          "text": [
            "Model: \"sequential_1\"\n",
            "_________________________________________________________________\n",
            "Layer (type)                 Output Shape              Param #   \n",
            "=================================================================\n",
            "batch_normalization (BatchNo (None, 512, 512, 3)       12        \n",
            "_________________________________________________________________\n",
            "conv2d (Conv2D)              (None, 512, 512, 16)      448       \n",
            "_________________________________________________________________\n",
            "max_pooling2d (MaxPooling2D) (None, 256, 256, 16)      0         \n",
            "_________________________________________________________________\n",
            "batch_normalization_1 (Batch (None, 256, 256, 16)      64        \n",
            "_________________________________________________________________\n",
            "conv2d_1 (Conv2D)            (None, 256, 256, 32)      4640      \n",
            "_________________________________________________________________\n",
            "max_pooling2d_1 (MaxPooling2 (None, 128, 128, 32)      0         \n",
            "_________________________________________________________________\n",
            "batch_normalization_2 (Batch (None, 128, 128, 32)      128       \n",
            "_________________________________________________________________\n",
            "dropout (Dropout)            (None, 128, 128, 32)      0         \n",
            "_________________________________________________________________\n",
            "conv2d_2 (Conv2D)            (None, 128, 128, 64)      18496     \n",
            "_________________________________________________________________\n",
            "max_pooling2d_2 (MaxPooling2 (None, 64, 64, 64)        0         \n",
            "_________________________________________________________________\n",
            "batch_normalization_3 (Batch (None, 64, 64, 64)        256       \n",
            "_________________________________________________________________\n",
            "dropout_1 (Dropout)          (None, 64, 64, 64)        0         \n",
            "_________________________________________________________________\n",
            "conv2d_3 (Conv2D)            (None, 64, 64, 128)       73856     \n",
            "_________________________________________________________________\n",
            "max_pooling2d_3 (MaxPooling2 (None, 32, 32, 128)       0         \n",
            "_________________________________________________________________\n",
            "batch_normalization_4 (Batch (None, 32, 32, 128)       512       \n",
            "_________________________________________________________________\n",
            "dropout_2 (Dropout)          (None, 32, 32, 128)       0         \n",
            "_________________________________________________________________\n",
            "conv2d_4 (Conv2D)            (None, 32, 32, 256)       295168    \n",
            "_________________________________________________________________\n",
            "max_pooling2d_4 (MaxPooling2 (None, 16, 16, 256)       0         \n",
            "_________________________________________________________________\n",
            "batch_normalization_5 (Batch (None, 16, 16, 256)       1024      \n",
            "_________________________________________________________________\n",
            "dropout_3 (Dropout)          (None, 16, 16, 256)       0         \n",
            "_________________________________________________________________\n",
            "conv2d_5 (Conv2D)            (None, 16, 16, 512)       1180160   \n",
            "_________________________________________________________________\n",
            "max_pooling2d_5 (MaxPooling2 (None, 8, 8, 512)         0         \n",
            "_________________________________________________________________\n",
            "batch_normalization_6 (Batch (None, 8, 8, 512)         2048      \n",
            "_________________________________________________________________\n",
            "dropout_4 (Dropout)          (None, 8, 8, 512)         0         \n",
            "_________________________________________________________________\n",
            "global_average_pooling2d (Gl (None, 512)               0         \n",
            "_________________________________________________________________\n",
            "flatten (Flatten)            (None, 512)               0         \n",
            "_________________________________________________________________\n",
            "dense (Dense)                (None, 256)               131328    \n",
            "_________________________________________________________________\n",
            "dropout_5 (Dropout)          (None, 256)               0         \n",
            "_________________________________________________________________\n",
            "dense_1 (Dense)              (None, 128)               32896     \n",
            "_________________________________________________________________\n",
            "dropout_6 (Dropout)          (None, 128)               0         \n",
            "_________________________________________________________________\n",
            "dropout_7 (Dropout)          (None, 128)               0         \n",
            "_________________________________________________________________\n",
            "dense_2 (Dense)              (None, 1)                 129       \n",
            "=================================================================\n",
            "Total params: 1,741,165\n",
            "Trainable params: 1,739,143\n",
            "Non-trainable params: 2,022\n",
            "_________________________________________________________________\n"
          ],
          "name": "stdout"
        }
      ]
    },
    {
      "cell_type": "code",
      "metadata": {
        "id": "odV28AfbhfdO"
      },
      "source": [
        "# Parameters Initialization\n",
        "from keras.optimizers import RMSprop,SGD,Adam,Adadelta\n",
        "\n",
        "#opt = rmsprop(lr=0.0001, decay=1e-6)\n",
        "\n",
        "model.compile(loss='binary_crossentropy',optimizer=Adam(0.0001), metrics=['accuracy'])"
      ],
      "execution_count": null,
      "outputs": []
    },
    {
      "cell_type": "code",
      "metadata": {
        "colab": {
          "base_uri": "https://localhost:8080/"
        },
        "id": "3XeaX0smhlvC",
        "outputId": "31b6192b-21fe-48b2-b15d-52f28c6b0930"
      },
      "source": [
        "train_steps = 400//batch_size\n",
        "valid_steps = 50//batch_size\n",
        "history = model.fit_generator(\n",
        "    train_flow,\n",
        "    epochs=100,\n",
        "    steps_per_epoch = train_steps,\n",
        "    validation_data = valid_flow,\n",
        "    validation_steps = valid_steps\n",
        ")"
      ],
      "execution_count": null,
      "outputs": [
        {
          "output_type": "stream",
          "text": [
            "/usr/local/lib/python3.7/dist-packages/tensorflow/python/keras/engine/training.py:1844: UserWarning: `Model.fit_generator` is deprecated and will be removed in a future version. Please use `Model.fit`, which supports generators.\n",
            "  warnings.warn('`Model.fit_generator` is deprecated and '\n"
          ],
          "name": "stderr"
        },
        {
          "output_type": "stream",
          "text": [
            "Epoch 1/100\n",
            "12/12 [==============================] - 107s 6s/step - loss: 0.7951 - accuracy: 0.4813 - val_loss: 0.6959 - val_accuracy: 0.4688\n",
            "Epoch 2/100\n",
            "12/12 [==============================] - 29s 3s/step - loss: 0.7902 - accuracy: 0.5261 - val_loss: 0.6914 - val_accuracy: 0.5312\n",
            "Epoch 3/100\n",
            "12/12 [==============================] - 16s 1s/step - loss: 0.7534 - accuracy: 0.5036 - val_loss: 0.7080 - val_accuracy: 0.3750\n",
            "Epoch 4/100\n",
            "12/12 [==============================] - 9s 762ms/step - loss: 0.7550 - accuracy: 0.5174 - val_loss: 0.7061 - val_accuracy: 0.4375\n",
            "Epoch 5/100\n",
            "12/12 [==============================] - 6s 494ms/step - loss: 0.7201 - accuracy: 0.5598 - val_loss: 0.6918 - val_accuracy: 0.5312\n",
            "Epoch 6/100\n",
            "12/12 [==============================] - 5s 422ms/step - loss: 0.7671 - accuracy: 0.5191 - val_loss: 0.6867 - val_accuracy: 0.5625\n",
            "Epoch 7/100\n",
            "12/12 [==============================] - 5s 383ms/step - loss: 0.7279 - accuracy: 0.5595 - val_loss: 0.7257 - val_accuracy: 0.5000\n",
            "Epoch 8/100\n",
            "12/12 [==============================] - 5s 380ms/step - loss: 0.7103 - accuracy: 0.6103 - val_loss: 0.7953 - val_accuracy: 0.4375\n",
            "Epoch 9/100\n",
            "12/12 [==============================] - 4s 363ms/step - loss: 0.6778 - accuracy: 0.5956 - val_loss: 0.7632 - val_accuracy: 0.5000\n",
            "Epoch 10/100\n",
            "12/12 [==============================] - 4s 358ms/step - loss: 0.7076 - accuracy: 0.5450 - val_loss: 1.0475 - val_accuracy: 0.3750\n",
            "Epoch 11/100\n",
            "12/12 [==============================] - 4s 329ms/step - loss: 0.7303 - accuracy: 0.5965 - val_loss: 0.9914 - val_accuracy: 0.4062\n",
            "Epoch 12/100\n",
            "12/12 [==============================] - 4s 333ms/step - loss: 0.7014 - accuracy: 0.5244 - val_loss: 0.7709 - val_accuracy: 0.5625\n",
            "Epoch 13/100\n",
            "12/12 [==============================] - 4s 320ms/step - loss: 0.7004 - accuracy: 0.6101 - val_loss: 0.8665 - val_accuracy: 0.4688\n",
            "Epoch 14/100\n",
            "12/12 [==============================] - 4s 315ms/step - loss: 0.6986 - accuracy: 0.5722 - val_loss: 0.9738 - val_accuracy: 0.4375\n",
            "Epoch 15/100\n",
            "12/12 [==============================] - 4s 334ms/step - loss: 0.6880 - accuracy: 0.6025 - val_loss: 1.1946 - val_accuracy: 0.3750\n",
            "Epoch 16/100\n",
            "12/12 [==============================] - 4s 332ms/step - loss: 0.7306 - accuracy: 0.5560 - val_loss: 0.8058 - val_accuracy: 0.5625\n",
            "Epoch 17/100\n",
            "12/12 [==============================] - 4s 323ms/step - loss: 0.6890 - accuracy: 0.5826 - val_loss: 1.0786 - val_accuracy: 0.3438\n",
            "Epoch 18/100\n",
            "12/12 [==============================] - 4s 331ms/step - loss: 0.6636 - accuracy: 0.5986 - val_loss: 0.8081 - val_accuracy: 0.5312\n",
            "Epoch 19/100\n",
            "12/12 [==============================] - 4s 318ms/step - loss: 0.6686 - accuracy: 0.6065 - val_loss: 0.8502 - val_accuracy: 0.5312\n",
            "Epoch 20/100\n",
            "12/12 [==============================] - 4s 320ms/step - loss: 0.6514 - accuracy: 0.6072 - val_loss: 1.2544 - val_accuracy: 0.4062\n",
            "Epoch 21/100\n",
            "12/12 [==============================] - 4s 326ms/step - loss: 0.6218 - accuracy: 0.6560 - val_loss: 1.2015 - val_accuracy: 0.5312\n",
            "Epoch 22/100\n",
            "12/12 [==============================] - 4s 332ms/step - loss: 0.5649 - accuracy: 0.6720 - val_loss: 1.6027 - val_accuracy: 0.4375\n",
            "Epoch 23/100\n",
            "12/12 [==============================] - 4s 321ms/step - loss: 0.6233 - accuracy: 0.6683 - val_loss: 1.4047 - val_accuracy: 0.5000\n",
            "Epoch 24/100\n",
            "12/12 [==============================] - 4s 323ms/step - loss: 0.6048 - accuracy: 0.6553 - val_loss: 1.4589 - val_accuracy: 0.5625\n",
            "Epoch 25/100\n",
            "12/12 [==============================] - 4s 326ms/step - loss: 0.6074 - accuracy: 0.6587 - val_loss: 1.9360 - val_accuracy: 0.4688\n",
            "Epoch 26/100\n",
            "12/12 [==============================] - 4s 325ms/step - loss: 0.6068 - accuracy: 0.6770 - val_loss: 1.6810 - val_accuracy: 0.4688\n",
            "Epoch 27/100\n",
            "12/12 [==============================] - 4s 330ms/step - loss: 0.5300 - accuracy: 0.7584 - val_loss: 1.9351 - val_accuracy: 0.4062\n",
            "Epoch 28/100\n",
            "12/12 [==============================] - 4s 329ms/step - loss: 0.5522 - accuracy: 0.7337 - val_loss: 1.4319 - val_accuracy: 0.5938\n",
            "Epoch 29/100\n",
            "12/12 [==============================] - 4s 322ms/step - loss: 0.4869 - accuracy: 0.7816 - val_loss: 1.5829 - val_accuracy: 0.5000\n",
            "Epoch 30/100\n",
            "12/12 [==============================] - 4s 324ms/step - loss: 0.4503 - accuracy: 0.8108 - val_loss: 2.0815 - val_accuracy: 0.4375\n",
            "Epoch 31/100\n",
            "12/12 [==============================] - 4s 335ms/step - loss: 0.4662 - accuracy: 0.8124 - val_loss: 1.6875 - val_accuracy: 0.5312\n",
            "Epoch 32/100\n",
            "12/12 [==============================] - 4s 333ms/step - loss: 0.3856 - accuracy: 0.8458 - val_loss: 1.9840 - val_accuracy: 0.5000\n",
            "Epoch 33/100\n",
            "12/12 [==============================] - 4s 326ms/step - loss: 0.3818 - accuracy: 0.8485 - val_loss: 2.4165 - val_accuracy: 0.4062\n",
            "Epoch 34/100\n",
            "12/12 [==============================] - 4s 328ms/step - loss: 0.3821 - accuracy: 0.8776 - val_loss: 2.3169 - val_accuracy: 0.3750\n",
            "Epoch 35/100\n",
            "12/12 [==============================] - 4s 333ms/step - loss: 0.3304 - accuracy: 0.8857 - val_loss: 1.3459 - val_accuracy: 0.5938\n",
            "Epoch 36/100\n",
            "12/12 [==============================] - 4s 332ms/step - loss: 0.2855 - accuracy: 0.9076 - val_loss: 1.6396 - val_accuracy: 0.5938\n",
            "Epoch 37/100\n",
            "12/12 [==============================] - 4s 325ms/step - loss: 0.2676 - accuracy: 0.9194 - val_loss: 1.0284 - val_accuracy: 0.6875\n",
            "Epoch 38/100\n",
            "12/12 [==============================] - 4s 329ms/step - loss: 0.2648 - accuracy: 0.9233 - val_loss: 1.6284 - val_accuracy: 0.6250\n",
            "Epoch 39/100\n",
            "12/12 [==============================] - 4s 334ms/step - loss: 0.2760 - accuracy: 0.8991 - val_loss: 1.5057 - val_accuracy: 0.5312\n",
            "Epoch 40/100\n",
            "12/12 [==============================] - 4s 334ms/step - loss: 0.2650 - accuracy: 0.8876 - val_loss: 1.2056 - val_accuracy: 0.6562\n",
            "Epoch 41/100\n",
            "12/12 [==============================] - 4s 332ms/step - loss: 0.2555 - accuracy: 0.9104 - val_loss: 1.0569 - val_accuracy: 0.7188\n",
            "Epoch 42/100\n",
            "12/12 [==============================] - 4s 322ms/step - loss: 0.2381 - accuracy: 0.9280 - val_loss: 1.0137 - val_accuracy: 0.6562\n",
            "Epoch 43/100\n",
            "12/12 [==============================] - 4s 324ms/step - loss: 0.2030 - accuracy: 0.9332 - val_loss: 1.6699 - val_accuracy: 0.5312\n",
            "Epoch 44/100\n",
            "12/12 [==============================] - 4s 325ms/step - loss: 0.1660 - accuracy: 0.9473 - val_loss: 1.2516 - val_accuracy: 0.6562\n",
            "Epoch 45/100\n",
            "12/12 [==============================] - 4s 325ms/step - loss: 0.1954 - accuracy: 0.9311 - val_loss: 1.7896 - val_accuracy: 0.5938\n",
            "Epoch 46/100\n",
            "12/12 [==============================] - 4s 335ms/step - loss: 0.1817 - accuracy: 0.9245 - val_loss: 2.0801 - val_accuracy: 0.5938\n",
            "Epoch 47/100\n",
            "12/12 [==============================] - 4s 328ms/step - loss: 0.1746 - accuracy: 0.9213 - val_loss: 1.2353 - val_accuracy: 0.6875\n",
            "Epoch 48/100\n",
            "12/12 [==============================] - 4s 324ms/step - loss: 0.1741 - accuracy: 0.9332 - val_loss: 1.4010 - val_accuracy: 0.5938\n",
            "Epoch 49/100\n",
            "12/12 [==============================] - 4s 335ms/step - loss: 0.1582 - accuracy: 0.9394 - val_loss: 1.1111 - val_accuracy: 0.7188\n",
            "Epoch 50/100\n",
            "12/12 [==============================] - 4s 338ms/step - loss: 0.1435 - accuracy: 0.9601 - val_loss: 1.0062 - val_accuracy: 0.7812\n",
            "Epoch 51/100\n",
            "12/12 [==============================] - 4s 329ms/step - loss: 0.1654 - accuracy: 0.9464 - val_loss: 1.5202 - val_accuracy: 0.6875\n",
            "Epoch 52/100\n",
            "12/12 [==============================] - 4s 334ms/step - loss: 0.1299 - accuracy: 0.9567 - val_loss: 1.0410 - val_accuracy: 0.6875\n",
            "Epoch 53/100\n",
            "12/12 [==============================] - 4s 338ms/step - loss: 0.1553 - accuracy: 0.9473 - val_loss: 0.8933 - val_accuracy: 0.7500\n",
            "Epoch 54/100\n",
            "12/12 [==============================] - 4s 336ms/step - loss: 0.1425 - accuracy: 0.9680 - val_loss: 1.2141 - val_accuracy: 0.7188\n",
            "Epoch 55/100\n",
            "12/12 [==============================] - 4s 336ms/step - loss: 0.1115 - accuracy: 0.9601 - val_loss: 1.2327 - val_accuracy: 0.6562\n",
            "Epoch 56/100\n",
            "12/12 [==============================] - 4s 328ms/step - loss: 0.0902 - accuracy: 0.9786 - val_loss: 2.0860 - val_accuracy: 0.5000\n",
            "Epoch 57/100\n",
            "12/12 [==============================] - 4s 325ms/step - loss: 0.1411 - accuracy: 0.9291 - val_loss: 2.0610 - val_accuracy: 0.5000\n",
            "Epoch 58/100\n",
            "12/12 [==============================] - 4s 326ms/step - loss: 0.1168 - accuracy: 0.9645 - val_loss: 0.9771 - val_accuracy: 0.6875\n",
            "Epoch 59/100\n",
            "12/12 [==============================] - 4s 327ms/step - loss: 0.1256 - accuracy: 0.9478 - val_loss: 2.4130 - val_accuracy: 0.6875\n",
            "Epoch 60/100\n",
            "12/12 [==============================] - 4s 325ms/step - loss: 0.2034 - accuracy: 0.9234 - val_loss: 1.1743 - val_accuracy: 0.7500\n",
            "Epoch 61/100\n",
            "12/12 [==============================] - 4s 331ms/step - loss: 0.1132 - accuracy: 0.9588 - val_loss: 1.4849 - val_accuracy: 0.6562\n",
            "Epoch 62/100\n",
            "12/12 [==============================] - 4s 325ms/step - loss: 0.0955 - accuracy: 0.9694 - val_loss: 2.0243 - val_accuracy: 0.6562\n",
            "Epoch 63/100\n",
            "12/12 [==============================] - 4s 323ms/step - loss: 0.1029 - accuracy: 0.9674 - val_loss: 1.3364 - val_accuracy: 0.6875\n",
            "Epoch 64/100\n",
            "12/12 [==============================] - 4s 324ms/step - loss: 0.1112 - accuracy: 0.9635 - val_loss: 1.6958 - val_accuracy: 0.6250\n",
            "Epoch 65/100\n",
            "12/12 [==============================] - 4s 333ms/step - loss: 0.0872 - accuracy: 0.9716 - val_loss: 1.3857 - val_accuracy: 0.7188\n",
            "Epoch 66/100\n",
            "12/12 [==============================] - 4s 326ms/step - loss: 0.1085 - accuracy: 0.9554 - val_loss: 0.9689 - val_accuracy: 0.7812\n",
            "Epoch 67/100\n",
            "12/12 [==============================] - 4s 338ms/step - loss: 0.0852 - accuracy: 0.9789 - val_loss: 1.3458 - val_accuracy: 0.6875\n",
            "Epoch 68/100\n",
            "12/12 [==============================] - 4s 328ms/step - loss: 0.0882 - accuracy: 0.9788 - val_loss: 1.1980 - val_accuracy: 0.7188\n",
            "Epoch 69/100\n",
            "12/12 [==============================] - 4s 329ms/step - loss: 0.1087 - accuracy: 0.9372 - val_loss: 2.0955 - val_accuracy: 0.6875\n",
            "Epoch 70/100\n",
            "12/12 [==============================] - 4s 330ms/step - loss: 0.1052 - accuracy: 0.9643 - val_loss: 1.7202 - val_accuracy: 0.6875\n",
            "Epoch 71/100\n",
            "12/12 [==============================] - 4s 331ms/step - loss: 0.0917 - accuracy: 0.9772 - val_loss: 1.1349 - val_accuracy: 0.7500\n",
            "Epoch 72/100\n",
            "12/12 [==============================] - 4s 330ms/step - loss: 0.0748 - accuracy: 0.9611 - val_loss: 1.7670 - val_accuracy: 0.6875\n",
            "Epoch 73/100\n",
            "12/12 [==============================] - 4s 329ms/step - loss: 0.0891 - accuracy: 0.9831 - val_loss: 2.5340 - val_accuracy: 0.5938\n",
            "Epoch 74/100\n",
            "12/12 [==============================] - 4s 330ms/step - loss: 0.0944 - accuracy: 0.9655 - val_loss: 1.2112 - val_accuracy: 0.7500\n",
            "Epoch 75/100\n",
            "12/12 [==============================] - 4s 325ms/step - loss: 0.0792 - accuracy: 0.9703 - val_loss: 1.3721 - val_accuracy: 0.7188\n",
            "Epoch 76/100\n",
            "12/12 [==============================] - 4s 333ms/step - loss: 0.1145 - accuracy: 0.9603 - val_loss: 1.2142 - val_accuracy: 0.7812\n",
            "Epoch 77/100\n",
            "12/12 [==============================] - 4s 331ms/step - loss: 0.0782 - accuracy: 0.9640 - val_loss: 1.1321 - val_accuracy: 0.7812\n",
            "Epoch 78/100\n",
            "12/12 [==============================] - 4s 321ms/step - loss: 0.0827 - accuracy: 0.9733 - val_loss: 1.2105 - val_accuracy: 0.7188\n",
            "Epoch 79/100\n",
            "12/12 [==============================] - 4s 319ms/step - loss: 0.1127 - accuracy: 0.9643 - val_loss: 1.0028 - val_accuracy: 0.8125\n",
            "Epoch 80/100\n",
            "12/12 [==============================] - 4s 331ms/step - loss: 0.1061 - accuracy: 0.9471 - val_loss: 1.6585 - val_accuracy: 0.6562\n",
            "Epoch 81/100\n",
            "12/12 [==============================] - 4s 322ms/step - loss: 0.0960 - accuracy: 0.9749 - val_loss: 1.7005 - val_accuracy: 0.7188\n",
            "Epoch 82/100\n",
            "12/12 [==============================] - 4s 326ms/step - loss: 0.0652 - accuracy: 0.9800 - val_loss: 1.7200 - val_accuracy: 0.7188\n",
            "Epoch 83/100\n",
            "12/12 [==============================] - 4s 324ms/step - loss: 0.0699 - accuracy: 0.9793 - val_loss: 2.4864 - val_accuracy: 0.5312\n",
            "Epoch 84/100\n",
            "12/12 [==============================] - 4s 321ms/step - loss: 0.0631 - accuracy: 0.9867 - val_loss: 1.3044 - val_accuracy: 0.7500\n",
            "Epoch 85/100\n",
            "12/12 [==============================] - 4s 328ms/step - loss: 0.0702 - accuracy: 0.9796 - val_loss: 2.7308 - val_accuracy: 0.5000\n",
            "Epoch 86/100\n",
            "12/12 [==============================] - 4s 322ms/step - loss: 0.0649 - accuracy: 0.9833 - val_loss: 1.8912 - val_accuracy: 0.6875\n",
            "Epoch 87/100\n",
            "12/12 [==============================] - 4s 337ms/step - loss: 0.0479 - accuracy: 0.9818 - val_loss: 1.9707 - val_accuracy: 0.6250\n",
            "Epoch 88/100\n",
            "12/12 [==============================] - 4s 331ms/step - loss: 0.0509 - accuracy: 0.9944 - val_loss: 1.3297 - val_accuracy: 0.8125\n",
            "Epoch 89/100\n",
            "12/12 [==============================] - 4s 328ms/step - loss: 0.0742 - accuracy: 0.9731 - val_loss: 2.2387 - val_accuracy: 0.6562\n",
            "Epoch 90/100\n",
            "12/12 [==============================] - 4s 327ms/step - loss: 0.0532 - accuracy: 0.9810 - val_loss: 2.1372 - val_accuracy: 0.7500\n",
            "Epoch 91/100\n",
            "12/12 [==============================] - 4s 335ms/step - loss: 0.0410 - accuracy: 0.9923 - val_loss: 1.9792 - val_accuracy: 0.5938\n",
            "Epoch 92/100\n",
            "12/12 [==============================] - 4s 330ms/step - loss: 0.0431 - accuracy: 0.9818 - val_loss: 2.4434 - val_accuracy: 0.7188\n",
            "Epoch 93/100\n",
            "12/12 [==============================] - 4s 324ms/step - loss: 0.0383 - accuracy: 0.9906 - val_loss: 2.4045 - val_accuracy: 0.6562\n",
            "Epoch 94/100\n",
            "12/12 [==============================] - 4s 321ms/step - loss: 0.0474 - accuracy: 0.9778 - val_loss: 2.0407 - val_accuracy: 0.6562\n",
            "Epoch 95/100\n",
            "12/12 [==============================] - 4s 322ms/step - loss: 0.0672 - accuracy: 0.9751 - val_loss: 1.9853 - val_accuracy: 0.6562\n",
            "Epoch 96/100\n",
            "12/12 [==============================] - 4s 326ms/step - loss: 0.0641 - accuracy: 0.9688 - val_loss: 2.4641 - val_accuracy: 0.6562\n",
            "Epoch 97/100\n",
            "12/12 [==============================] - 4s 327ms/step - loss: 0.0684 - accuracy: 0.9695 - val_loss: 1.5278 - val_accuracy: 0.8125\n",
            "Epoch 98/100\n",
            "12/12 [==============================] - 4s 331ms/step - loss: 0.0723 - accuracy: 0.9694 - val_loss: 1.2639 - val_accuracy: 0.6875\n",
            "Epoch 99/100\n",
            "12/12 [==============================] - 4s 326ms/step - loss: 0.0751 - accuracy: 0.9717 - val_loss: 2.8535 - val_accuracy: 0.6250\n",
            "Epoch 100/100\n",
            "12/12 [==============================] - 4s 331ms/step - loss: 0.1305 - accuracy: 0.9507 - val_loss: 1.6215 - val_accuracy: 0.7188\n"
          ],
          "name": "stdout"
        }
      ]
    },
    {
      "cell_type": "code",
      "metadata": {
        "id": "1FlcwS2lh31Y"
      },
      "source": [
        "model.save(\"custom_model.h5\") # save model"
      ],
      "execution_count": null,
      "outputs": []
    },
    {
      "cell_type": "code",
      "metadata": {
        "id": "U_yMQj8jmPj0"
      },
      "source": [
        "\"\"\"\n",
        "Plot the training and validation loss\n",
        "epochs - list of epoch numbers\n",
        "loss - training loss for each epoch\n",
        "val_loss - validation loss for each epoch\n",
        "\"\"\"\n",
        "def plot_loss(epochs, loss, val_loss):\n",
        "    plt.plot(epochs, loss, 'bo', label='Training Loss')\n",
        "    plt.plot(epochs, val_loss, 'orange', label = 'Validation Loss')\n",
        "    plt.title('Training and Validation Loss')\n",
        "    plt.legend()\n",
        "    plt.show()\n",
        "\"\"\"\n",
        "Plot the training and validation accuracy\n",
        "epochs - list of epoch numbers\n",
        "acc - training accuracy for each epoch\n",
        "val_acc - validation accuracy for each epoch\n",
        "\"\"\"\n",
        "def plot_accuracy(epochs, acc, val_acc):\n",
        "    plt.plot(epochs, acc, 'bo', label='Training accuracy')\n",
        "    plt.plot(epochs, val_acc, 'orange', label = 'Validation accuracy')\n",
        "    plt.title('Training and Validation Accuracy')\n",
        "    plt.legend()\n",
        "    plt.show()"
      ],
      "execution_count": null,
      "outputs": []
    },
    {
      "cell_type": "code",
      "metadata": {
        "id": "gepHPyf7mX66"
      },
      "source": [
        "acc = history.history['accuracy']\n",
        "val_acc = history.history['val_accuracy']\n",
        "loss = history.history['loss']\n",
        "val_loss = history.history['val_loss']"
      ],
      "execution_count": null,
      "outputs": []
    },
    {
      "cell_type": "code",
      "metadata": {
        "colab": {
          "base_uri": "https://localhost:8080/",
          "height": 545
        },
        "id": "bMyNtqflmaI3",
        "outputId": "e42dde63-19ec-4a0d-cbbd-209029519811"
      },
      "source": [
        "plot_loss(range(1, len(loss) + 1), loss, val_loss)\n",
        "plot_accuracy(range(1, len(loss) + 1), acc, val_acc)"
      ],
      "execution_count": null,
      "outputs": [
        {
          "output_type": "display_data",
          "data": {
            "image/png": "[encoded data removed]",
            "text/plain": [
              "<Figure size 432x288 with 1 Axes>"
            ]
          },
          "metadata": {
            "tags": []
          }
        },
        {
          "output_type": "display_data",
          "data": {
            "image/png": "[encoded data removed]",
            "text/plain": [
              "<Figure size 432x288 with 1 Axes>"
            ]
          },
          "metadata": {
            "tags": []
          }
        }
      ]
    },
    {
      "cell_type": "code",
      "metadata": {
        "id": "eQv2IeWVmhn4"
      },
      "source": [
        "y_pred = model.predict(test_flow)\n",
        "y_test = test_flow.classes"
      ],
      "execution_count": null,
      "outputs": []
    },
    {
      "cell_type": "code",
      "metadata": {
        "colab": {
          "base_uri": "https://localhost:8080/"
        },
        "id": "odJ__b-cpHXf",
        "outputId": "351d1a06-64cc-41ad-8775-f9af896063c3"
      },
      "source": [
        "from sklearn import metrics\n",
        "print(\"ROC AUC Score:\", metrics.roc_auc_score(y_test, y_pred))\n",
        "print(\"AP Score:\", metrics.average_precision_score(y_test, y_pred))\n",
        "print()\n",
        "print(metrics.classification_report(y_test, y_pred > 0.5))"
      ],
      "execution_count": null,
      "outputs": [
        {
          "output_type": "stream",
          "text": [
            "ROC AUC Score: 0.806930693069307\n",
            "AP Score: 0.7840100689992252\n",
            "\n",
            "              precision    recall  f1-score   support\n",
            "\n",
            "           0       0.60      0.89      0.72       101\n",
            "           1       0.82      0.46      0.59       110\n",
            "\n",
            "    accuracy                           0.67       211\n",
            "   macro avg       0.71      0.68      0.66       211\n",
            "weighted avg       0.72      0.67      0.65       211\n",
            "\n"
          ],
          "name": "stdout"
        }
      ]
    },
    {
      "cell_type": "markdown",
      "metadata": {
        "id": "rx-FUEzHV1AG"
      },
      "source": [
        "NEW MODEL - VGG Face\n"
      ]
    },
    {
      "cell_type": "code",
      "metadata": {
        "colab": {
          "base_uri": "https://localhost:8080/"
        },
        "id": "C0cd9G1mpKU0",
        "outputId": "5c46f2c6-0ff5-4ed5-9aff-87c79c383bae"
      },
      "source": [
        "base_path = '/content/drive/MyDrive/DeepFake_dataset/'\n",
        "image_gen = ImageDataGenerator(rescale=1./255.)\n",
        "batch_size = 64\n",
        "\n",
        "train_flow = image_gen.flow_from_directory(\n",
        "    base_path + 'development/',\n",
        "    target_size=(224, 224),\n",
        "    batch_size=batch_size,\n",
        "    class_mode='binary'\n",
        ")\n",
        "\n",
        "valid_flow = image_gen.flow_from_directory(\n",
        "    base_path + 'validation/',\n",
        "    target_size=(224, 224),\n",
        "    batch_size=batch_size,\n",
        "    class_mode='binary'\n",
        ")\n",
        "\n",
        "test_flow = image_gen.flow_from_directory(\n",
        "    base_path + 'evaluation/',\n",
        "    target_size=(224, 224),\n",
        "    batch_size=1,\n",
        "    shuffle=False,\n",
        "    class_mode='binary'\n",
        ")"
      ],
      "execution_count": null,
      "outputs": [
        {
          "output_type": "stream",
          "text": [
            "Found 600 images belonging to 2 classes.\n",
            "Found 166 images belonging to 2 classes.\n",
            "Found 211 images belonging to 2 classes.\n"
          ],
          "name": "stdout"
        }
      ]
    },
    {
      "cell_type": "code",
      "metadata": {
        "id": "_oTozOfEWLo7"
      },
      "source": [
        "\"\"\"\n",
        "Plot the training and validation loss\n",
        "epochs - list of epoch numbers\n",
        "loss - training loss for each epoch\n",
        "val_loss - validation loss for each epoch\n",
        "\"\"\"\n",
        "def plot_loss(epochs, loss, val_loss):\n",
        "    plt.plot(epochs, loss, 'bo', label='Training Loss')\n",
        "    plt.plot(epochs, val_loss, 'orange', label = 'Validation Loss')\n",
        "    plt.title('Training and Validation Loss')\n",
        "    plt.legend()\n",
        "    plt.show()\n",
        "    \n",
        "    \n",
        "\"\"\"\n",
        "Plot the training and validation accuracy\n",
        "epochs - list of epoch numbers\n",
        "acc - training accuracy for each epoch\n",
        "val_acc - validation accuracy for each epoch\n",
        "\"\"\"\n",
        "def plot_accuracy(epochs, acc, val_acc):\n",
        "    plt.plot(epochs, acc, 'bo', label='Training accuracy')\n",
        "    plt.plot(epochs, val_acc, 'orange', label = 'Validation accuracy')\n",
        "    plt.title('Training and Validation Accuracy')\n",
        "    plt.legend()\n",
        "    plt.show()"
      ],
      "execution_count": null,
      "outputs": []
    },
    {
      "cell_type": "code",
      "metadata": {
        "colab": {
          "base_uri": "https://localhost:8080/"
        },
        "id": "-NVVXjnoWW0_",
        "outputId": "94f5c324-546d-43e5-a4f6-ed0a33a90e17"
      },
      "source": [
        "vgg_model = VGGFace(include_top=False, input_shape = (224,224,3))\n",
        "\n",
        "last_layer = vgg_model.get_layer('pool5').output\n",
        "flat_layer = Flatten(name='flatten')(last_layer)\n",
        "fc1 = Dense(2048, activation='relu', name='fc1')(flat_layer)\n",
        "dense2 = Dense(1, activation='sigmoid', name='dense2')(fc1)\n",
        "\n",
        "custom_vgg_model = Model(vgg_model.input, dense2)"
      ],
      "execution_count": null,
      "outputs": [
        {
          "output_type": "stream",
          "text": [
            "Downloading data from https://github.com/rcmalli/keras-vggface/releases/download/v2.0/rcmalli_vggface_tf_notop_vgg16.h5\n",
            "58916864/58909280 [==============================] - 1s 0us/step\n"
          ],
          "name": "stdout"
        }
      ]
    },
    {
      "cell_type": "code",
      "metadata": {
        "id": "F2wVktkTWZMm"
      },
      "source": [
        "from keras.optimizers import RMSprop,SGD,Adam,Adadelta\n",
        "\n",
        "custom_vgg_model.compile(\n",
        "    loss='binary_crossentropy',\n",
        "    optimizer=Adam(0.0002), \n",
        "    metrics=['acc']\n",
        ")"
      ],
      "execution_count": null,
      "outputs": []
    },
    {
      "cell_type": "code",
      "metadata": {
        "colab": {
          "background_save": true,
          "base_uri": "https://localhost:8080/",
          "height": 243
        },
        "id": "Mn301fx-Wdl5",
        "outputId": "6b5960f3-8d37-47bc-b69f-e5f84fcfd65c"
      },
      "source": [
        "train_steps = 1000//batch_size\n",
        "valid_steps = 200//batch_size\n",
        "\n",
        "history = custom_vgg_model.fit_generator(\n",
        "    train_flow,\n",
        "    epochs=5,\n",
        "    steps_per_epoch=train_steps,\n",
        "    validation_data=valid_flow,\n",
        "    validation_steps=valid_steps\n",
        ")"
      ],
      "execution_count": null,
      "outputs": [
        {
          "output_type": "stream",
          "text": [
            "/usr/local/lib/python3.7/dist-packages/tensorflow/python/keras/engine/training.py:1844: UserWarning: `Model.fit_generator` is deprecated and will be removed in a future version. Please use `Model.fit`, which supports generators.\n",
            "  warnings.warn('`Model.fit_generator` is deprecated and '\n"
          ],
          "name": "stderr"
        },
        {
          "output_type": "stream",
          "text": [
            "Epoch 1/5\n"
          ],
          "name": "stdout"
        },
        {
          "output_type": "error",
          "ename": "KeyboardInterrupt",
          "evalue": "ignored",
          "traceback": [
            "\u001b[0;31m---------------------------------------------------------------------------\u001b[0m",
            "\u001b[0;31mKeyboardInterrupt\u001b[0m                         Traceback (most recent call last)",
            "\u001b[0;32m<ipython-input-9-b6bd36fb5068>\u001b[0m in \u001b[0;36m<module>\u001b[0;34m()\u001b[0m\n\u001b[1;32m      7\u001b[0m     \u001b[0msteps_per_epoch\u001b[0m\u001b[0;34m=\u001b[0m\u001b[0mtrain_steps\u001b[0m\u001b[0;34m,\u001b[0m\u001b[0;34m\u001b[0m\u001b[0;34m\u001b[0m\u001b[0m\n\u001b[1;32m      8\u001b[0m     \u001b[0mvalidation_data\u001b[0m\u001b[0;34m=\u001b[0m\u001b[0mvalid_flow\u001b[0m\u001b[0;34m,\u001b[0m\u001b[0;34m\u001b[0m\u001b[0;34m\u001b[0m\u001b[0m\n\u001b[0;32m----> 9\u001b[0;31m     \u001b[0mvalidation_steps\u001b[0m\u001b[0;34m=\u001b[0m\u001b[0mvalid_steps\u001b[0m\u001b[0;34m\u001b[0m\u001b[0;34m\u001b[0m\u001b[0m\n\u001b[0m\u001b[1;32m     10\u001b[0m )\n",
            "\u001b[0;32m/usr/local/lib/python3.7/dist-packages/tensorflow/python/keras/engine/training.py\u001b[0m in \u001b[0;36mfit_generator\u001b[0;34m(self, generator, steps_per_epoch, epochs, verbose, callbacks, validation_data, validation_steps, validation_freq, class_weight, max_queue_size, workers, use_multiprocessing, shuffle, initial_epoch)\u001b[0m\n\u001b[1;32m   1859\u001b[0m         \u001b[0muse_multiprocessing\u001b[0m\u001b[0;34m=\u001b[0m\u001b[0muse_multiprocessing\u001b[0m\u001b[0;34m,\u001b[0m\u001b[0;34m\u001b[0m\u001b[0;34m\u001b[0m\u001b[0m\n\u001b[1;32m   1860\u001b[0m         \u001b[0mshuffle\u001b[0m\u001b[0;34m=\u001b[0m\u001b[0mshuffle\u001b[0m\u001b[0;34m,\u001b[0m\u001b[0;34m\u001b[0m\u001b[0;34m\u001b[0m\u001b[0m\n\u001b[0;32m-> 1861\u001b[0;31m         initial_epoch=initial_epoch)\n\u001b[0m\u001b[1;32m   1862\u001b[0m \u001b[0;34m\u001b[0m\u001b[0m\n\u001b[1;32m   1863\u001b[0m   def evaluate_generator(self,\n",
            "\u001b[0;32m/usr/local/lib/python3.7/dist-packages/tensorflow/python/keras/engine/training.py\u001b[0m in \u001b[0;36mfit\u001b[0;34m(self, x, y, batch_size, epochs, verbose, callbacks, validation_split, validation_data, shuffle, class_weight, sample_weight, initial_epoch, steps_per_epoch, validation_steps, validation_batch_size, validation_freq, max_queue_size, workers, use_multiprocessing)\u001b[0m\n\u001b[1;32m   1098\u001b[0m                 _r=1):\n\u001b[1;32m   1099\u001b[0m               \u001b[0mcallbacks\u001b[0m\u001b[0;34m.\u001b[0m\u001b[0mon_train_batch_begin\u001b[0m\u001b[0;34m(\u001b[0m\u001b[0mstep\u001b[0m\u001b[0;34m)\u001b[0m\u001b[0;34m\u001b[0m\u001b[0;34m\u001b[0m\u001b[0m\n\u001b[0;32m-> 1100\u001b[0;31m               \u001b[0mtmp_logs\u001b[0m \u001b[0;34m=\u001b[0m \u001b[0mself\u001b[0m\u001b[0;34m.\u001b[0m\u001b[0mtrain_function\u001b[0m\u001b[0;34m(\u001b[0m\u001b[0miterator\u001b[0m\u001b[0;34m)\u001b[0m\u001b[0;34m\u001b[0m\u001b[0;34m\u001b[0m\u001b[0m\n\u001b[0m\u001b[1;32m   1101\u001b[0m               \u001b[0;32mif\u001b[0m \u001b[0mdata_handler\u001b[0m\u001b[0;34m.\u001b[0m\u001b[0mshould_sync\u001b[0m\u001b[0;34m:\u001b[0m\u001b[0;34m\u001b[0m\u001b[0;34m\u001b[0m\u001b[0m\n\u001b[1;32m   1102\u001b[0m                 \u001b[0mcontext\u001b[0m\u001b[0;34m.\u001b[0m\u001b[0masync_wait\u001b[0m\u001b[0;34m(\u001b[0m\u001b[0;34m)\u001b[0m\u001b[0;34m\u001b[0m\u001b[0;34m\u001b[0m\u001b[0m\n",
            "\u001b[0;32m/usr/local/lib/python3.7/dist-packages/tensorflow/python/eager/def_function.py\u001b[0m in \u001b[0;36m__call__\u001b[0;34m(self, *args, **kwds)\u001b[0m\n\u001b[1;32m    826\u001b[0m     \u001b[0mtracing_count\u001b[0m \u001b[0;34m=\u001b[0m \u001b[0mself\u001b[0m\u001b[0;34m.\u001b[0m\u001b[0mexperimental_get_tracing_count\u001b[0m\u001b[0;34m(\u001b[0m\u001b[0;34m)\u001b[0m\u001b[0;34m\u001b[0m\u001b[0;34m\u001b[0m\u001b[0m\n\u001b[1;32m    827\u001b[0m     \u001b[0;32mwith\u001b[0m \u001b[0mtrace\u001b[0m\u001b[0;34m.\u001b[0m\u001b[0mTrace\u001b[0m\u001b[0;34m(\u001b[0m\u001b[0mself\u001b[0m\u001b[0;34m.\u001b[0m\u001b[0m_name\u001b[0m\u001b[0;34m)\u001b[0m \u001b[0;32mas\u001b[0m \u001b[0mtm\u001b[0m\u001b[0;34m:\u001b[0m\u001b[0;34m\u001b[0m\u001b[0;34m\u001b[0m\u001b[0m\n\u001b[0;32m--> 828\u001b[0;31m       \u001b[0mresult\u001b[0m \u001b[0;34m=\u001b[0m \u001b[0mself\u001b[0m\u001b[0;34m.\u001b[0m\u001b[0m_call\u001b[0m\u001b[0;34m(\u001b[0m\u001b[0;34m*\u001b[0m\u001b[0margs\u001b[0m\u001b[0;34m,\u001b[0m \u001b[0;34m**\u001b[0m\u001b[0mkwds\u001b[0m\u001b[0;34m)\u001b[0m\u001b[0;34m\u001b[0m\u001b[0;34m\u001b[0m\u001b[0m\n\u001b[0m\u001b[1;32m    829\u001b[0m       \u001b[0mcompiler\u001b[0m \u001b[0;34m=\u001b[0m \u001b[0;34m\"xla\"\u001b[0m \u001b[0;32mif\u001b[0m \u001b[0mself\u001b[0m\u001b[0;34m.\u001b[0m\u001b[0m_experimental_compile\u001b[0m \u001b[0;32melse\u001b[0m \u001b[0;34m\"nonXla\"\u001b[0m\u001b[0;34m\u001b[0m\u001b[0;34m\u001b[0m\u001b[0m\n\u001b[1;32m    830\u001b[0m       \u001b[0mnew_tracing_count\u001b[0m \u001b[0;34m=\u001b[0m \u001b[0mself\u001b[0m\u001b[0;34m.\u001b[0m\u001b[0mexperimental_get_tracing_count\u001b[0m\u001b[0;34m(\u001b[0m\u001b[0;34m)\u001b[0m\u001b[0;34m\u001b[0m\u001b[0;34m\u001b[0m\u001b[0m\n",
            "\u001b[0;32m/usr/local/lib/python3.7/dist-packages/tensorflow/python/eager/def_function.py\u001b[0m in \u001b[0;36m_call\u001b[0;34m(self, *args, **kwds)\u001b[0m\n\u001b[1;32m    886\u001b[0m         \u001b[0;31m# Lifting succeeded, so variables are initialized and we can run the\u001b[0m\u001b[0;34m\u001b[0m\u001b[0;34m\u001b[0m\u001b[0;34m\u001b[0m\u001b[0m\n\u001b[1;32m    887\u001b[0m         \u001b[0;31m# stateless function.\u001b[0m\u001b[0;34m\u001b[0m\u001b[0;34m\u001b[0m\u001b[0;34m\u001b[0m\u001b[0m\n\u001b[0;32m--> 888\u001b[0;31m         \u001b[0;32mreturn\u001b[0m \u001b[0mself\u001b[0m\u001b[0;34m.\u001b[0m\u001b[0m_stateless_fn\u001b[0m\u001b[0;34m(\u001b[0m\u001b[0;34m*\u001b[0m\u001b[0margs\u001b[0m\u001b[0;34m,\u001b[0m \u001b[0;34m**\u001b[0m\u001b[0mkwds\u001b[0m\u001b[0;34m)\u001b[0m\u001b[0;34m\u001b[0m\u001b[0;34m\u001b[0m\u001b[0m\n\u001b[0m\u001b[1;32m    889\u001b[0m     \u001b[0;32melse\u001b[0m\u001b[0;34m:\u001b[0m\u001b[0;34m\u001b[0m\u001b[0;34m\u001b[0m\u001b[0m\n\u001b[1;32m    890\u001b[0m       \u001b[0m_\u001b[0m\u001b[0;34m,\u001b[0m \u001b[0m_\u001b[0m\u001b[0;34m,\u001b[0m \u001b[0m_\u001b[0m\u001b[0;34m,\u001b[0m \u001b[0mfiltered_flat_args\u001b[0m \u001b[0;34m=\u001b[0m\u001b[0;31m \u001b[0m\u001b[0;31m\\\u001b[0m\u001b[0;34m\u001b[0m\u001b[0;34m\u001b[0m\u001b[0m\n",
            "\u001b[0;32m/usr/local/lib/python3.7/dist-packages/tensorflow/python/eager/function.py\u001b[0m in \u001b[0;36m__call__\u001b[0;34m(self, *args, **kwargs)\u001b[0m\n\u001b[1;32m   2941\u001b[0m        filtered_flat_args) = self._maybe_define_function(args, kwargs)\n\u001b[1;32m   2942\u001b[0m     return graph_function._call_flat(\n\u001b[0;32m-> 2943\u001b[0;31m         filtered_flat_args, captured_inputs=graph_function.captured_inputs)  # pylint: disable=protected-access\n\u001b[0m\u001b[1;32m   2944\u001b[0m \u001b[0;34m\u001b[0m\u001b[0m\n\u001b[1;32m   2945\u001b[0m   \u001b[0;34m@\u001b[0m\u001b[0mproperty\u001b[0m\u001b[0;34m\u001b[0m\u001b[0;34m\u001b[0m\u001b[0m\n",
            "\u001b[0;32m/usr/local/lib/python3.7/dist-packages/tensorflow/python/eager/function.py\u001b[0m in \u001b[0;36m_call_flat\u001b[0;34m(self, args, captured_inputs, cancellation_manager)\u001b[0m\n\u001b[1;32m   1917\u001b[0m       \u001b[0;31m# No tape is watching; skip to running the function.\u001b[0m\u001b[0;34m\u001b[0m\u001b[0;34m\u001b[0m\u001b[0;34m\u001b[0m\u001b[0m\n\u001b[1;32m   1918\u001b[0m       return self._build_call_outputs(self._inference_function.call(\n\u001b[0;32m-> 1919\u001b[0;31m           ctx, args, cancellation_manager=cancellation_manager))\n\u001b[0m\u001b[1;32m   1920\u001b[0m     forward_backward = self._select_forward_and_backward_functions(\n\u001b[1;32m   1921\u001b[0m         \u001b[0margs\u001b[0m\u001b[0;34m,\u001b[0m\u001b[0;34m\u001b[0m\u001b[0;34m\u001b[0m\u001b[0m\n",
            "\u001b[0;32m/usr/local/lib/python3.7/dist-packages/tensorflow/python/eager/function.py\u001b[0m in \u001b[0;36mcall\u001b[0;34m(self, ctx, args, cancellation_manager)\u001b[0m\n\u001b[1;32m    558\u001b[0m               \u001b[0minputs\u001b[0m\u001b[0;34m=\u001b[0m\u001b[0margs\u001b[0m\u001b[0;34m,\u001b[0m\u001b[0;34m\u001b[0m\u001b[0;34m\u001b[0m\u001b[0m\n\u001b[1;32m    559\u001b[0m               \u001b[0mattrs\u001b[0m\u001b[0;34m=\u001b[0m\u001b[0mattrs\u001b[0m\u001b[0;34m,\u001b[0m\u001b[0;34m\u001b[0m\u001b[0;34m\u001b[0m\u001b[0m\n\u001b[0;32m--> 560\u001b[0;31m               ctx=ctx)\n\u001b[0m\u001b[1;32m    561\u001b[0m         \u001b[0;32melse\u001b[0m\u001b[0;34m:\u001b[0m\u001b[0;34m\u001b[0m\u001b[0;34m\u001b[0m\u001b[0m\n\u001b[1;32m    562\u001b[0m           outputs = execute.execute_with_cancellation(\n",
            "\u001b[0;32m/usr/local/lib/python3.7/dist-packages/tensorflow/python/eager/execute.py\u001b[0m in \u001b[0;36mquick_execute\u001b[0;34m(op_name, num_outputs, inputs, attrs, ctx, name)\u001b[0m\n\u001b[1;32m     58\u001b[0m     \u001b[0mctx\u001b[0m\u001b[0;34m.\u001b[0m\u001b[0mensure_initialized\u001b[0m\u001b[0;34m(\u001b[0m\u001b[0;34m)\u001b[0m\u001b[0;34m\u001b[0m\u001b[0;34m\u001b[0m\u001b[0m\n\u001b[1;32m     59\u001b[0m     tensors = pywrap_tfe.TFE_Py_Execute(ctx._handle, device_name, op_name,\n\u001b[0;32m---> 60\u001b[0;31m                                         inputs, attrs, num_outputs)\n\u001b[0m\u001b[1;32m     61\u001b[0m   \u001b[0;32mexcept\u001b[0m \u001b[0mcore\u001b[0m\u001b[0;34m.\u001b[0m\u001b[0m_NotOkStatusException\u001b[0m \u001b[0;32mas\u001b[0m \u001b[0me\u001b[0m\u001b[0;34m:\u001b[0m\u001b[0;34m\u001b[0m\u001b[0;34m\u001b[0m\u001b[0m\n\u001b[1;32m     62\u001b[0m     \u001b[0;32mif\u001b[0m \u001b[0mname\u001b[0m \u001b[0;32mis\u001b[0m \u001b[0;32mnot\u001b[0m \u001b[0;32mNone\u001b[0m\u001b[0;34m:\u001b[0m\u001b[0;34m\u001b[0m\u001b[0;34m\u001b[0m\u001b[0m\n",
            "\u001b[0;31mKeyboardInterrupt\u001b[0m: "
          ]
        }
      ]
    },
    {
      "cell_type": "code",
      "metadata": {
        "id": "fonjHRwKWqVt"
      },
      "source": [
        ""
      ],
      "execution_count": null,
      "outputs": []
    }
  ]
}